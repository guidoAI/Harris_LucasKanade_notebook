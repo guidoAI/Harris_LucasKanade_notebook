{
 "cells": [
  {
   "cell_type": "markdown",
   "metadata": {},
   "source": [
    "# Optic flow estimation from an image pair\n",
    "\n",
    "In this notebook, we will explain how to estimate optic flow from an image pair coming from a conventional camera. There are many different optic flow algorithms, ranging from exhaustive block-matching to variational methods, and from phase-based methods to deep neural networks. However, in our explanation, we will focus on the most common, CPU-based, _feature-based method_ that performs two steps:\n",
    "<OL>\n",
    "    <LI> Feature detection </LI>\n",
    "    <LI> Feature tracking </LI>\n",
    "</OL>\n",
    "\n",
    "In the code cell below, we implemented a combination of Harris corner detection and Lucas-Kanade optic flow tracking with the help of the Python wrapper of the OpenCV library. In this notebook, we will give a look \"under the hood\" of what is happening within OpenCV when these functions are called. We will start with the second step, as it is the one that actually determines the optic flow. In particular, we will explain the method developed by Lucas and Kanade [1], which is both a fast and accurate method for determining optic flow. After that we will explain the Harris corner detector [2]. "
   ]
  },
  {
   "cell_type": "code",
   "execution_count": null,
   "metadata": {},
   "outputs": [],
   "source": []
  }
 ],
 "metadata": {
  "kernelspec": {
   "display_name": "Python 3",
   "language": "python",
   "name": "python3"
  },
  "language_info": {
   "codemirror_mode": {
    "name": "ipython",
    "version": 3
   },
   "file_extension": ".py",
   "mimetype": "text/x-python",
   "name": "python",
   "nbconvert_exporter": "python",
   "pygments_lexer": "ipython3",
   "version": "3.6.7"
  }
 },
 "nbformat": 4,
 "nbformat_minor": 2
}
